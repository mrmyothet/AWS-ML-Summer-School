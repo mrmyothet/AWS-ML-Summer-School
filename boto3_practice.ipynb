{
 "cells": [
  {
   "cell_type": "code",
   "execution_count": null,
   "id": "ac422a51",
   "metadata": {},
   "outputs": [],
   "source": [
    "!pip install boto3"
   ]
  },
  {
   "cell_type": "markdown",
   "id": "b59dd3d4",
   "metadata": {},
   "source": [
    "### Set credentials"
   ]
  },
  {
   "cell_type": "code",
   "execution_count": null,
   "id": "9d9b5479",
   "metadata": {},
   "outputs": [
    {
     "name": "stdout",
     "output_type": "stream",
     "text": [
      "ap-southeast-1\n"
     ]
    }
   ],
   "source": [
    "# Option 1: Use AWS CLI credentials\n",
    "#           No additional setup required\n",
    "\n",
    "# Option 2: Use IAM roles (if on EC2)\n",
    "#           Automatic - no setup required\n",
    "\n",
    "# Option 3: Set environment variables \n",
    "import os\n",
    "from dotenv import load_dotenv\n",
    "load_dotenv()  # Load variables from a .env file if present\n",
    "\n",
    "AWS_ACCESS_KEY_ID = os.getenv('AWS_ACCESS_KEY_ID')\n",
    "AWS_SECRET_ACCESS_KEY = os.getenv('AWS_SECRET_ACCESS_KEY')\n",
    "REGION_NAME = os.getenv('REGION_NAME')\n",
    "\n",
    "# print(AWS_ACCESS_KEY_ID)\n",
    "# print(AWS_SECRET_ACCESS_KEY)\n",
    "# print(REGION_NAME)"
   ]
  },
  {
   "cell_type": "code",
   "execution_count": 8,
   "id": "800053e8",
   "metadata": {},
   "outputs": [],
   "source": [
    "import boto3\n",
    "\n",
    "# Test connection \n",
    "sts = boto3.client('sts')\n",
    "identity = sts.get_caller_identity()\n",
    "# print(identity['Arn'])"
   ]
  },
  {
   "cell_type": "code",
   "execution_count": null,
   "id": "4ad4be75",
   "metadata": {},
   "outputs": [],
   "source": []
  }
 ],
 "metadata": {
  "kernelspec": {
   "display_name": "3.11.13",
   "language": "python",
   "name": "python3"
  },
  "language_info": {
   "codemirror_mode": {
    "name": "ipython",
    "version": 3
   },
   "file_extension": ".py",
   "mimetype": "text/x-python",
   "name": "python",
   "nbconvert_exporter": "python",
   "pygments_lexer": "ipython3",
   "version": "3.11.13"
  }
 },
 "nbformat": 4,
 "nbformat_minor": 5
}
