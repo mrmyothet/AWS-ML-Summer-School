{
 "cells": [
  {
   "cell_type": "code",
   "execution_count": 1,
   "id": "c43051cd-e041-467d-a405-3899eb44f445",
   "metadata": {},
   "outputs": [
    {
     "name": "stderr",
     "output_type": "stream",
     "text": [
      "/home/ec2-user/anaconda3/envs/python3/lib/python3.10/site-packages/pandas/core/computation/expressions.py:21: UserWarning: Pandas requires version '2.8.4' or newer of 'numexpr' (version '2.7.3' currently installed).\n",
      "  from pandas.core.computation.check import NUMEXPR_INSTALLED\n"
     ]
    },
    {
     "name": "stdout",
     "output_type": "stream",
     "text": [
      "sagemaker.config INFO - Not applying SDK defaults from location: /etc/xdg/sagemaker/config.yaml\n",
      "sagemaker.config INFO - Not applying SDK defaults from location: /home/ec2-user/.config/sagemaker/config.yaml\n"
     ]
    }
   ],
   "source": [
    "import boto3\n",
    "import sagemaker\n",
    "from sagemaker.serializers import CSVSerializer\n",
    "from sagemaker.deserializers import JSONDeserializer\n",
    "\n",
    "session = sagemaker.Session()\n",
    "\n",
    "predictor = sagemaker.Predictor(\n",
    "    endpoint_name=\"sagemaker-xgboost-2025-09-27-12-03-25-568\", \n",
    "    sagemaker_session=session\n",
    ")\n",
    "\n",
    "# Set serializers again (these don’t persist across notebooks)\n",
    "predictor.serializer = CSVSerializer()\n",
    "predictor.deserializer = JSONDeserializer()\n"
   ]
  },
  {
   "cell_type": "code",
   "execution_count": 2,
   "id": "18940a19-6837-4ae1-bcc6-d6bf81607865",
   "metadata": {},
   "outputs": [
    {
     "name": "stdout",
     "output_type": "stream",
     "text": [
      "{'predictions': [{'score': [0.9903059005737305, 0.008187990635633469, 0.001506078871898353]}]}\n"
     ]
    }
   ],
   "source": [
    "# Example: single row (sepal length, sepal width, petal length, petal width)\n",
    "row = [[5.1, 3.5, 1.4, 0.2]]\n",
    "\n",
    "payload = \",\".join(map(str, row[0]))\n",
    "result = predictor.predict(payload)\n",
    "\n",
    "print(result)\n",
    "# → {'predictions': [{'score': [0.98, 0.01, 0.01]}]}\n"
   ]
  },
  {
   "cell_type": "code",
   "execution_count": 3,
   "id": "f46f02e2-ed7d-4b51-8f83-71cb2634caf2",
   "metadata": {},
   "outputs": [
    {
     "name": "stdout",
     "output_type": "stream",
     "text": [
      "AWS Region: ap-southeast-1\n",
      "Account ID: 215470142970\n",
      "\n",
      "Postman URL: https://runtime.sagemaker.ap-southeast-1.amazonaws.com/endpoints/sagemaker-xgboost-2025-09-27-12-03-25-568/invocations\n",
      "Endpoint Status: InService\n"
     ]
    }
   ],
   "source": [
    "import boto3\n",
    "\n",
    "# Get your region\n",
    "session = boto3.Session()\n",
    "region = session.region_name\n",
    "print(f\"AWS Region: {region}\")\n",
    "\n",
    "# Get your account ID (optional, for verification)\n",
    "sts = boto3.client('sts')\n",
    "account_id = sts.get_caller_identity()['Account']\n",
    "print(f\"Account ID: {account_id}\")\n",
    "\n",
    "# Your exact endpoint URL for Postman:\n",
    "endpoint_url = f\"https://runtime.sagemaker.{region}.amazonaws.com/endpoints/sagemaker-xgboost-2025-09-27-12-03-25-568/invocations\"\n",
    "print(f\"\\nPostman URL: {endpoint_url}\")\n",
    "\n",
    "# Check if endpoint is active\n",
    "sagemaker_client = boto3.client('sagemaker')\n",
    "try:\n",
    "    response = sagemaker_client.describe_endpoint(\n",
    "        EndpointName='sagemaker-xgboost-2025-09-27-12-03-25-568'\n",
    "    )\n",
    "    print(f\"Endpoint Status: {response['EndpointStatus']}\")\n",
    "except Exception as e:\n",
    "    print(f\"Error checking endpoint: {e}\")"
   ]
  },
  {
   "cell_type": "code",
   "execution_count": 4,
   "id": "1b06f9e4-fd18-4d49-b863-d278186e111a",
   "metadata": {},
   "outputs": [
    {
     "name": "stdout",
     "output_type": "stream",
     "text": [
      "Raw response: 0.9903059005737305,0.008187990635633469,0.001506078871898353\n",
      "\n"
     ]
    }
   ],
   "source": [
    "# Test the exact same format you'll use in Postman\n",
    "import boto3\n",
    "\n",
    "runtime = boto3.client('sagemaker-runtime')\n",
    "\n",
    "response = runtime.invoke_endpoint(\n",
    "    EndpointName='sagemaker-xgboost-2025-09-27-12-03-25-568',\n",
    "    ContentType='text/csv',\n",
    "    Body='5.1,3.5,1.4,0.2'\n",
    ")\n",
    "\n",
    "result = response['Body'].read().decode()\n",
    "print(\"Raw response:\", result)"
   ]
  },
  {
   "cell_type": "markdown",
   "id": "e3db0870-1934-4143-a0f8-f9b4ad822485",
   "metadata": {},
   "source": []
  }
 ],
 "metadata": {
  "kernelspec": {
   "display_name": "conda_python3",
   "language": "python",
   "name": "conda_python3"
  },
  "language_info": {
   "codemirror_mode": {
    "name": "ipython",
    "version": 3
   },
   "file_extension": ".py",
   "mimetype": "text/x-python",
   "name": "python",
   "nbconvert_exporter": "python",
   "pygments_lexer": "ipython3",
   "version": "3.10.18"
  }
 },
 "nbformat": 4,
 "nbformat_minor": 5
}
