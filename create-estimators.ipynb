{
 "cells": [
  {
   "cell_type": "markdown",
   "id": "5e4927f4-15b7-43a2-9bc6-8ae3069e926e",
   "metadata": {},
   "source": [
    "#  High‑Level Flow\n",
    "\n",
    "- Prepare data (CSV; label in first column) and upload to S3.\n",
    "\n",
    "- Create an Estimator with the XGBoost container + hyperparams.\n",
    "\n",
    "- Train (fit) on train/validation data.\n",
    "\n",
    "- Deploy a real‑time HTTPS endpoint (optional if you only need batch predictions).\n",
    "\n",
    "- Infer from any notebook or client that has AWS credentials.\n",
    "\n",
    "- Monitor & Optimize costs; Clean up (delete the endpoint) when done.\n",
    "\n",
    "\n",
    "## Minimal Architecture\n",
    "\n",
    "- Notebook / Studio orchestrates everything via SageMaker SDK.\n",
    "\n",
    "- S3 stores training data & model artifacts.\n",
    "\n",
    "- SageMaker Training spins a training job using XGBoost container.\n",
    "\n",
    "- SageMaker Hosting runs a managed endpoint for real‑time inference.\n",
    "\n",
    "\n",
    "## Prerequisites & Setup\n",
    "\n",
    "- AWS account with SageMaker access in your region (e.g., ap-southeast-1).\n",
    "\n",
    "- Execution role with permissions: SageMaker, S3 read/write (see IAM sample below).\n",
    "\n",
    "- Python deps: `sagemaker`, `boto3`, `pandas`, `scikit-learn`."
   ]
  },
  {
   "cell_type": "code",
   "execution_count": 1,
   "id": "f19eca74-eb2e-4f14-9c84-c62392d8c73d",
   "metadata": {},
   "outputs": [
    {
     "name": "stderr",
     "output_type": "stream",
     "text": [
      "/home/ec2-user/anaconda3/envs/python3/lib/python3.10/site-packages/pandas/core/computation/expressions.py:21: UserWarning: Pandas requires version '2.8.4' or newer of 'numexpr' (version '2.7.3' currently installed).\n",
      "  from pandas.core.computation.check import NUMEXPR_INSTALLED\n"
     ]
    },
    {
     "name": "stdout",
     "output_type": "stream",
     "text": [
      "sagemaker.config INFO - Not applying SDK defaults from location: /etc/xdg/sagemaker/config.yaml\n",
      "sagemaker.config INFO - Not applying SDK defaults from location: /home/ec2-user/.config/sagemaker/config.yaml\n"
     ]
    }
   ],
   "source": [
    "import boto3, sagemaker, time, os\n",
    "from sagemaker import Session\n",
    "from sagemaker import image_uris\n",
    "from sagemaker.serializers import CSVSerializer\n",
    "from sagemaker.deserializers import JSONDeserializer\n",
    "from sagemaker import get_execution_role\n",
    "\n",
    "session = Session()\n",
    "region = boto3.Session().region_name or \"ap-southeast-1\"   # SG default if none\n",
    "try:\n",
    "    role = get_execution_role()  # works inside SageMaker\n",
    "except Exception:\n",
    "    role = \"arn:aws:iam::<YOUR-AWS-ACCOUNT-ID>:role/<YOUR-SAGEMAKER-EXECUTION-ROLE>\"  # if running outside\n",
    "\n",
    "# Pick or create a bucket\n",
    "bucket = session.default_bucket()  # or set your own existing bucket name\n",
    "prefix = \"iris-xgb\"\n"
   ]
  },
  {
   "cell_type": "code",
   "execution_count": 3,
   "id": "db3eaec8-e810-4aeb-990d-915ce7a13070",
   "metadata": {},
   "outputs": [
    {
     "data": {
      "text/plain": [
       "'arn:aws:iam::215470142970:role/service-role/AmazonSageMaker-ExecutionRole-20250816T210398'"
      ]
     },
     "execution_count": 3,
     "metadata": {},
     "output_type": "execute_result"
    }
   ],
   "source": [
    "role"
   ]
  },
  {
   "cell_type": "markdown",
   "id": "3ca1baed-56c2-471a-af12-538c8fab1b43",
   "metadata": {},
   "source": [
    "## Load DATSET, split, and upload to S3"
   ]
  },
  {
   "cell_type": "code",
   "execution_count": 4,
   "id": "17731656-cc34-4144-ba44-44e6589c8165",
   "metadata": {},
   "outputs": [
    {
     "name": "stdout",
     "output_type": "stream",
     "text": [
      "s3://sagemaker-ap-southeast-1-215470142970/iris-xgb/data/train.csv s3://sagemaker-ap-southeast-1-215470142970/iris-xgb/data/validation.csv s3://sagemaker-ap-southeast-1-215470142970/iris-xgb/data/test.csv\n"
     ]
    }
   ],
   "source": [
    "import pandas as pd\n",
    "from sklearn import datasets\n",
    "from sklearn.model_selection import train_test_split\n",
    "\n",
    "iris = datasets.load_iris()\n",
    "X = pd.DataFrame(iris.data, columns=iris.feature_names)\n",
    "y = pd.Series(iris.target, name=\"label\")\n",
    "\n",
    "df = pd.concat([y, X], axis=1)  # label first\n",
    "\n",
    "train_df, temp_df = train_test_split(df, test_size=0.3, random_state=42, stratify=df[\"label\"])\n",
    "val_df, test_df  = train_test_split(temp_df, test_size=0.5, random_state=42, stratify=temp_df[\"label\"])\n",
    "\n",
    "os.makedirs(\"data\", exist_ok=True)\n",
    "\n",
    "train_path, val_path, test_path = \"data/train.csv\", \"data/validation.csv\", \"data/test.csv\"\n",
    "train_df.to_csv(train_path, header=False, index=False)\n",
    "val_df.to_csv(val_path, header=False, index=False)\n",
    "test_df.to_csv(test_path, header=False, index=False)\n",
    "\n",
    "s3_train = session.upload_data(train_path, bucket=bucket, key_prefix=f\"{prefix}/data\")\n",
    "s3_val   = session.upload_data(val_path,   bucket=bucket, key_prefix=f\"{prefix}/data\")\n",
    "s3_test  = session.upload_data(test_path,  bucket=bucket, key_prefix=f\"{prefix}/data\")\n",
    "s3_output = f\"s3://{bucket}/{prefix}/output\"\n",
    "print(s3_train, s3_val, s3_test)"
   ]
  },
  {
   "cell_type": "markdown",
   "id": "2cb95c87-fa60-428b-860c-4e6d914a6e69",
   "metadata": {},
   "source": [
    "## Create the XGBoost Estimator"
   ]
  },
  {
   "cell_type": "markdown",
   "id": "d91a4ff7-dfcc-41d8-aeaa-f058564785d9",
   "metadata": {},
   "source": [
    "### Estimator Config\n",
    "- image_uri = “Which code container runs?”\n",
    "\n",
    "- role = “What AWS permissions does it have?”\n",
    "\n",
    "- instance_type/count = “On what hardware does it run?”\n",
    "\n",
    "- output_path = “Where do results go?”\n",
    "\n",
    "- set_hyperparameters = “What arguments are passed to the containerized algorithm?”"
   ]
  },
  {
   "cell_type": "code",
   "execution_count": 5,
   "id": "70800886-3b2d-4606-8466-edce6a05bfa8",
   "metadata": {},
   "outputs": [],
   "source": [
    "from sagemaker.estimator import Estimator\n",
    "\n",
    "xgb_image = image_uris.retrieve(framework=\"xgboost\", region=region, version=\"1.7-1\")  # stable version\n",
    "\n",
    "estimator = Estimator(\n",
    "    image_uri=xgb_image,\n",
    "    role=role,\n",
    "    instance_count=1,\n",
    "    instance_type=\"ml.m5.large\",\n",
    "    output_path=s3_output,\n",
    "    sagemaker_session=session\n",
    ")\n",
    "\n",
    "# Hyperparameters for multiclass classification\n",
    "estimator.set_hyperparameters(\n",
    "    objective=\"multi:softprob\",  # returns class probabilities\n",
    "    num_class=3,\n",
    "    eval_metric=\"mlogloss\",\n",
    "    num_round=200,\n",
    "    max_depth=4,\n",
    "    eta=0.2,\n",
    "    subsample=0.8,\n",
    "    colsample_bytree=0.8\n",
    ")\n"
   ]
  },
  {
   "cell_type": "markdown",
   "id": "c89ed205-b44e-4a8a-bd62-dd87c5ec2cad",
   "metadata": {},
   "source": [
    "## Train"
   ]
  },
  {
   "cell_type": "code",
   "execution_count": 6,
   "id": "5c97d47b-ae79-44d9-9d28-42674e002177",
   "metadata": {
    "scrolled": true
   },
   "outputs": [
    {
     "name": "stderr",
     "output_type": "stream",
     "text": [
      "INFO:sagemaker:Creating training-job with name: sagemaker-xgboost-2025-09-27-11-59-41-157\n"
     ]
    },
    {
     "name": "stdout",
     "output_type": "stream",
     "text": [
      "2025-09-27 11:59:43 Starting - Starting the training job...\n",
      "2025-09-27 11:59:57 Starting - Preparing the instances for training...\n",
      "2025-09-27 12:00:18 Downloading - Downloading input data...\n",
      "2025-09-27 12:01:08 Downloading - Downloading the training image......\n",
      "2025-09-27 12:02:14 Training - Training image download completed. Training in progress...\u001b[34m/miniconda3/lib/python3.9/site-packages/sagemaker_containers/_server.py:22: UserWarning: pkg_resources is deprecated as an API. See https://setuptools.pypa.io/en/latest/pkg_resources.html. The pkg_resources package is slated for removal as early as 2025-11-30. Refrain from using this package or pin to Setuptools<81.\n",
      "  import pkg_resources\u001b[0m\n",
      "\u001b[34m[2025-09-27 12:02:19.044 ip-10-0-83-228.ap-southeast-1.compute.internal:7 INFO utils.py:28] RULE_JOB_STOP_SIGNAL_FILENAME: None\u001b[0m\n",
      "\u001b[34m[2025-09-27 12:02:19.126 ip-10-0-83-228.ap-southeast-1.compute.internal:7 INFO profiler_config_parser.py:111] User has disabled profiler.\u001b[0m\n",
      "\u001b[34m[2025-09-27:12:02:19:INFO] Imported framework sagemaker_xgboost_container.training\u001b[0m\n",
      "\u001b[34m[2025-09-27:12:02:19:INFO] Failed to parse hyperparameter eval_metric value mlogloss to Json.\u001b[0m\n",
      "\u001b[34mReturning the value itself\u001b[0m\n",
      "\u001b[34m[2025-09-27:12:02:19:INFO] Failed to parse hyperparameter objective value multi:softprob to Json.\u001b[0m\n",
      "\u001b[34mReturning the value itself\u001b[0m\n",
      "\u001b[34m[2025-09-27:12:02:19:INFO] No GPUs detected (normal if no gpus installed)\u001b[0m\n",
      "\u001b[34m[2025-09-27:12:02:19:INFO] Running XGBoost Sagemaker in algorithm mode\u001b[0m\n",
      "\u001b[34m[2025-09-27:12:02:19:INFO] Determined 0 GPU(s) available on the instance.\u001b[0m\n",
      "\u001b[34m[2025-09-27:12:02:19:INFO] Determined delimiter of CSV input is ','\u001b[0m\n",
      "\u001b[34m[2025-09-27:12:02:19:INFO] Determined delimiter of CSV input is ','\u001b[0m\n",
      "\u001b[34m[2025-09-27:12:02:19:INFO] File path /opt/ml/input/data/train of input files\u001b[0m\n",
      "\u001b[34m[2025-09-27:12:02:19:INFO] Making smlinks from folder /opt/ml/input/data/train to folder /tmp/sagemaker_xgboost_input_data\u001b[0m\n",
      "\u001b[34m[2025-09-27:12:02:19:INFO] creating symlink between Path /opt/ml/input/data/train/train.csv and destination /tmp/sagemaker_xgboost_input_data/train.csv4026551668703097139\u001b[0m\n",
      "\u001b[34m[2025-09-27:12:02:19:INFO] files path: /tmp/sagemaker_xgboost_input_data\u001b[0m\n",
      "\u001b[34m[2025-09-27:12:02:19:INFO] Determined delimiter of CSV input is ','\u001b[0m\n",
      "\u001b[34m[2025-09-27:12:02:19:INFO] File path /opt/ml/input/data/validation of input files\u001b[0m\n",
      "\u001b[34m[2025-09-27:12:02:19:INFO] Making smlinks from folder /opt/ml/input/data/validation to folder /tmp/sagemaker_xgboost_input_data\u001b[0m\n",
      "\u001b[34m[2025-09-27:12:02:19:INFO] creating symlink between Path /opt/ml/input/data/validation/validation.csv and destination /tmp/sagemaker_xgboost_input_data/validation.csv-5547506856552699167\u001b[0m\n",
      "\u001b[34m[2025-09-27:12:02:19:INFO] files path: /tmp/sagemaker_xgboost_input_data\u001b[0m\n",
      "\u001b[34m[2025-09-27:12:02:19:INFO] Determined delimiter of CSV input is ','\u001b[0m\n",
      "\u001b[34m[2025-09-27:12:02:19:INFO] Single node training.\u001b[0m\n",
      "\u001b[34m[2025-09-27:12:02:19:INFO] Train matrix has 105 rows and 4 columns\u001b[0m\n",
      "\u001b[34m[2025-09-27:12:02:19:INFO] Validation matrix has 22 rows\u001b[0m\n",
      "\u001b[34m[2025-09-27 12:02:19.538 ip-10-0-83-228.ap-southeast-1.compute.internal:7 INFO json_config.py:92] Creating hook from json_config at /opt/ml/input/config/debughookconfig.json.\u001b[0m\n",
      "\u001b[34m[2025-09-27 12:02:19.539 ip-10-0-83-228.ap-southeast-1.compute.internal:7 INFO hook.py:206] tensorboard_dir has not been set for the hook. SMDebug will not be exporting tensorboard summaries.\u001b[0m\n",
      "\u001b[34m[2025-09-27 12:02:19.540 ip-10-0-83-228.ap-southeast-1.compute.internal:7 INFO hook.py:259] Saving to /opt/ml/output/tensors\u001b[0m\n",
      "\u001b[34m[2025-09-27 12:02:19.540 ip-10-0-83-228.ap-southeast-1.compute.internal:7 INFO state_store.py:77] The checkpoint config file /opt/ml/input/config/checkpointconfig.json does not exist.\u001b[0m\n",
      "\u001b[34m[2025-09-27:12:02:19:INFO] Debug hook created from config\u001b[0m\n",
      "\u001b[34m[2025-09-27 12:02:19.544 ip-10-0-83-228.ap-southeast-1.compute.internal:7 INFO hook.py:427] Monitoring the collections: metrics\u001b[0m\n",
      "\u001b[34m[2025-09-27 12:02:19.548 ip-10-0-83-228.ap-southeast-1.compute.internal:7 INFO hook.py:491] Hook is writing from the hook with pid: 7\u001b[0m\n",
      "\u001b[34m[0]#011train-mlogloss:0.86578#011validation-mlogloss:0.89585\u001b[0m\n",
      "\u001b[34m[1]#011train-mlogloss:0.69673#011validation-mlogloss:0.75240\u001b[0m\n",
      "\u001b[34m[2]#011train-mlogloss:0.56422#011validation-mlogloss:0.63289\u001b[0m\n",
      "\u001b[34m[3]#011train-mlogloss:0.46039#011validation-mlogloss:0.54312\u001b[0m\n",
      "\u001b[34m[4]#011train-mlogloss:0.38010#011validation-mlogloss:0.47765\u001b[0m\n",
      "\u001b[34m[5]#011train-mlogloss:0.31746#011validation-mlogloss:0.42865\u001b[0m\n",
      "\u001b[34m[6]#011train-mlogloss:0.26893#011validation-mlogloss:0.39317\u001b[0m\n",
      "\u001b[34m[7]#011train-mlogloss:0.22940#011validation-mlogloss:0.36538\u001b[0m\n",
      "\u001b[34m[8]#011train-mlogloss:0.19661#011validation-mlogloss:0.34212\u001b[0m\n",
      "\u001b[34m[9]#011train-mlogloss:0.17060#011validation-mlogloss:0.32395\u001b[0m\n",
      "\u001b[34m[10]#011train-mlogloss:0.14912#011validation-mlogloss:0.31142\u001b[0m\n",
      "\u001b[34m[11]#011train-mlogloss:0.13108#011validation-mlogloss:0.29968\u001b[0m\n",
      "\u001b[34m[12]#011train-mlogloss:0.11616#011validation-mlogloss:0.29624\u001b[0m\n",
      "\u001b[34m[13]#011train-mlogloss:0.10331#011validation-mlogloss:0.29273\u001b[0m\n",
      "\u001b[34m[14]#011train-mlogloss:0.09221#011validation-mlogloss:0.29008\u001b[0m\n",
      "\u001b[34m[15]#011train-mlogloss:0.08267#011validation-mlogloss:0.28745\u001b[0m\n",
      "\u001b[34m[16]#011train-mlogloss:0.07523#011validation-mlogloss:0.28993\u001b[0m\n",
      "\u001b[34m[17]#011train-mlogloss:0.06906#011validation-mlogloss:0.28999\u001b[0m\n",
      "\u001b[34m[18]#011train-mlogloss:0.06321#011validation-mlogloss:0.28851\u001b[0m\n",
      "\u001b[34m[19]#011train-mlogloss:0.05847#011validation-mlogloss:0.28945\u001b[0m\n",
      "\u001b[34m[20]#011train-mlogloss:0.05476#011validation-mlogloss:0.28724\u001b[0m\n",
      "\u001b[34m[21]#011train-mlogloss:0.05116#011validation-mlogloss:0.28893\u001b[0m\n",
      "\u001b[34m[22]#011train-mlogloss:0.04809#011validation-mlogloss:0.29092\u001b[0m\n",
      "\u001b[34m[23]#011train-mlogloss:0.04586#011validation-mlogloss:0.29773\u001b[0m\n",
      "\u001b[34m[24]#011train-mlogloss:0.04367#011validation-mlogloss:0.30039\u001b[0m\n",
      "\u001b[34m[25]#011train-mlogloss:0.04176#011validation-mlogloss:0.30461\u001b[0m\n",
      "\u001b[34m[26]#011train-mlogloss:0.04102#011validation-mlogloss:0.30729\u001b[0m\n",
      "\u001b[34m[27]#011train-mlogloss:0.04038#011validation-mlogloss:0.30909\u001b[0m\n",
      "\u001b[34m[28]#011train-mlogloss:0.03956#011validation-mlogloss:0.31030\u001b[0m\n",
      "\u001b[34m[29]#011train-mlogloss:0.03900#011validation-mlogloss:0.31212\u001b[0m\n",
      "\u001b[34m[30]#011train-mlogloss:0.03840#011validation-mlogloss:0.31545\u001b[0m\n",
      "\u001b[34m[31]#011train-mlogloss:0.03788#011validation-mlogloss:0.31885\u001b[0m\n",
      "\u001b[34m[32]#011train-mlogloss:0.03693#011validation-mlogloss:0.32220\u001b[0m\n",
      "\u001b[34m[33]#011train-mlogloss:0.03635#011validation-mlogloss:0.32520\u001b[0m\n",
      "\u001b[34m[34]#011train-mlogloss:0.03609#011validation-mlogloss:0.32828\u001b[0m\n",
      "\u001b[34m[35]#011train-mlogloss:0.03564#011validation-mlogloss:0.33038\u001b[0m\n",
      "\u001b[34m[36]#011train-mlogloss:0.03489#011validation-mlogloss:0.33343\u001b[0m\n",
      "\u001b[34m[37]#011train-mlogloss:0.03461#011validation-mlogloss:0.33518\u001b[0m\n",
      "\u001b[34m[38]#011train-mlogloss:0.03437#011validation-mlogloss:0.33570\u001b[0m\n",
      "\u001b[34m[39]#011train-mlogloss:0.03397#011validation-mlogloss:0.33902\u001b[0m\n",
      "\u001b[34m[40]#011train-mlogloss:0.03365#011validation-mlogloss:0.34181\u001b[0m\n",
      "\u001b[34m[41]#011train-mlogloss:0.03322#011validation-mlogloss:0.34367\u001b[0m\n",
      "\u001b[34m[42]#011train-mlogloss:0.03284#011validation-mlogloss:0.34670\u001b[0m\n",
      "\u001b[34m[43]#011train-mlogloss:0.03251#011validation-mlogloss:0.34785\u001b[0m\n",
      "\u001b[34m[44]#011train-mlogloss:0.03216#011validation-mlogloss:0.35052\u001b[0m\n",
      "\u001b[34m[45]#011train-mlogloss:0.03168#011validation-mlogloss:0.35053\u001b[0m\n",
      "\u001b[34m[46]#011train-mlogloss:0.03122#011validation-mlogloss:0.35537\u001b[0m\n",
      "\u001b[34m[47]#011train-mlogloss:0.03088#011validation-mlogloss:0.35451\u001b[0m\n",
      "\u001b[34m[48]#011train-mlogloss:0.03051#011validation-mlogloss:0.35650\u001b[0m\n",
      "\u001b[34m[49]#011train-mlogloss:0.03017#011validation-mlogloss:0.36106\u001b[0m\n",
      "\u001b[34m[50]#011train-mlogloss:0.02997#011validation-mlogloss:0.36245\u001b[0m\n",
      "\u001b[34m[51]#011train-mlogloss:0.02975#011validation-mlogloss:0.36356\u001b[0m\n",
      "\u001b[34m[52]#011train-mlogloss:0.02972#011validation-mlogloss:0.36477\u001b[0m\n",
      "\u001b[34m[53]#011train-mlogloss:0.02955#011validation-mlogloss:0.36755\u001b[0m\n",
      "\u001b[34m[54]#011train-mlogloss:0.02921#011validation-mlogloss:0.37046\u001b[0m\n",
      "\u001b[34m[55]#011train-mlogloss:0.02906#011validation-mlogloss:0.37115\u001b[0m\n",
      "\u001b[34m[56]#011train-mlogloss:0.02893#011validation-mlogloss:0.37043\u001b[0m\n",
      "\u001b[34m[57]#011train-mlogloss:0.02886#011validation-mlogloss:0.37041\u001b[0m\n",
      "\u001b[34m[58]#011train-mlogloss:0.02858#011validation-mlogloss:0.37274\u001b[0m\n",
      "\u001b[34m[59]#011train-mlogloss:0.02852#011validation-mlogloss:0.37391\u001b[0m\n",
      "\u001b[34m[60]#011train-mlogloss:0.02851#011validation-mlogloss:0.37344\u001b[0m\n",
      "\u001b[34m[61]#011train-mlogloss:0.02844#011validation-mlogloss:0.37273\u001b[0m\n",
      "\u001b[34m[62]#011train-mlogloss:0.02850#011validation-mlogloss:0.37315\u001b[0m\n",
      "\u001b[34m[63]#011train-mlogloss:0.02849#011validation-mlogloss:0.37129\u001b[0m\n",
      "\u001b[34m[64]#011train-mlogloss:0.02842#011validation-mlogloss:0.37130\u001b[0m\n",
      "\u001b[34m[65]#011train-mlogloss:0.02827#011validation-mlogloss:0.37202\u001b[0m\n",
      "\u001b[34m[66]#011train-mlogloss:0.02825#011validation-mlogloss:0.37188\u001b[0m\n",
      "\u001b[34m[67]#011train-mlogloss:0.02812#011validation-mlogloss:0.37243\u001b[0m\n",
      "\u001b[34m[68]#011train-mlogloss:0.02781#011validation-mlogloss:0.37521\u001b[0m\n",
      "\u001b[34m[69]#011train-mlogloss:0.02764#011validation-mlogloss:0.37522\u001b[0m\n",
      "\u001b[34m[70]#011train-mlogloss:0.02754#011validation-mlogloss:0.37531\u001b[0m\n",
      "\u001b[34m[71]#011train-mlogloss:0.02726#011validation-mlogloss:0.37113\u001b[0m\n",
      "\u001b[34m[72]#011train-mlogloss:0.02720#011validation-mlogloss:0.37276\u001b[0m\n",
      "\u001b[34m[73]#011train-mlogloss:0.02694#011validation-mlogloss:0.37494\u001b[0m\n",
      "\u001b[34m[74]#011train-mlogloss:0.02667#011validation-mlogloss:0.37517\u001b[0m\n",
      "\u001b[34m[75]#011train-mlogloss:0.02672#011validation-mlogloss:0.37530\u001b[0m\n",
      "\u001b[34m[76]#011train-mlogloss:0.02667#011validation-mlogloss:0.37709\u001b[0m\n",
      "\u001b[34m[77]#011train-mlogloss:0.02663#011validation-mlogloss:0.37765\u001b[0m\n",
      "\u001b[34m[78]#011train-mlogloss:0.02648#011validation-mlogloss:0.37873\u001b[0m\n",
      "\u001b[34m[79]#011train-mlogloss:0.02636#011validation-mlogloss:0.37981\u001b[0m\n",
      "\u001b[34m[80]#011train-mlogloss:0.02623#011validation-mlogloss:0.38285\u001b[0m\n",
      "\u001b[34m[81]#011train-mlogloss:0.02618#011validation-mlogloss:0.38294\u001b[0m\n",
      "\u001b[34m[82]#011train-mlogloss:0.02605#011validation-mlogloss:0.38625\u001b[0m\n",
      "\u001b[34m[83]#011train-mlogloss:0.02603#011validation-mlogloss:0.38667\u001b[0m\n",
      "\u001b[34m[84]#011train-mlogloss:0.02594#011validation-mlogloss:0.38892\u001b[0m\n",
      "\u001b[34m[85]#011train-mlogloss:0.02575#011validation-mlogloss:0.38875\u001b[0m\n",
      "\u001b[34m[86]#011train-mlogloss:0.02562#011validation-mlogloss:0.38779\u001b[0m\n",
      "\u001b[34m[87]#011train-mlogloss:0.02559#011validation-mlogloss:0.38812\u001b[0m\n",
      "\u001b[34m[88]#011train-mlogloss:0.02534#011validation-mlogloss:0.38847\u001b[0m\n",
      "\u001b[34m[89]#011train-mlogloss:0.02530#011validation-mlogloss:0.38870\u001b[0m\n",
      "\u001b[34m[90]#011train-mlogloss:0.02526#011validation-mlogloss:0.39087\u001b[0m\n",
      "\u001b[34m[91]#011train-mlogloss:0.02511#011validation-mlogloss:0.39234\u001b[0m\n",
      "\u001b[34m[92]#011train-mlogloss:0.02512#011validation-mlogloss:0.39429\u001b[0m\n",
      "\u001b[34m[93]#011train-mlogloss:0.02507#011validation-mlogloss:0.39391\u001b[0m\n",
      "\u001b[34m[94]#011train-mlogloss:0.02504#011validation-mlogloss:0.39359\u001b[0m\n",
      "\u001b[34m[95]#011train-mlogloss:0.02493#011validation-mlogloss:0.39743\u001b[0m\n",
      "\u001b[34m[96]#011train-mlogloss:0.02487#011validation-mlogloss:0.40002\u001b[0m\n",
      "\u001b[34m[97]#011train-mlogloss:0.02474#011validation-mlogloss:0.40103\u001b[0m\n",
      "\u001b[34m[98]#011train-mlogloss:0.02471#011validation-mlogloss:0.40202\u001b[0m\n",
      "\u001b[34m[99]#011train-mlogloss:0.02457#011validation-mlogloss:0.40352\u001b[0m\n",
      "\u001b[34m[100]#011train-mlogloss:0.02454#011validation-mlogloss:0.40496\u001b[0m\n",
      "\u001b[34m[101]#011train-mlogloss:0.02450#011validation-mlogloss:0.40466\u001b[0m\n",
      "\u001b[34m[102]#011train-mlogloss:0.02455#011validation-mlogloss:0.40496\u001b[0m\n",
      "\u001b[34m[103]#011train-mlogloss:0.02453#011validation-mlogloss:0.40363\u001b[0m\n",
      "\u001b[34m[104]#011train-mlogloss:0.02438#011validation-mlogloss:0.40495\u001b[0m\n",
      "\u001b[34m[105]#011train-mlogloss:0.02429#011validation-mlogloss:0.40359\u001b[0m\n",
      "\u001b[34m[106]#011train-mlogloss:0.02424#011validation-mlogloss:0.40427\u001b[0m\n",
      "\u001b[34m[107]#011train-mlogloss:0.02422#011validation-mlogloss:0.40625\u001b[0m\n",
      "\u001b[34m[108]#011train-mlogloss:0.02420#011validation-mlogloss:0.40630\u001b[0m\n",
      "\u001b[34m[109]#011train-mlogloss:0.02417#011validation-mlogloss:0.40869\u001b[0m\n",
      "\u001b[34m[110]#011train-mlogloss:0.02406#011validation-mlogloss:0.40980\u001b[0m\n",
      "\u001b[34m[111]#011train-mlogloss:0.02409#011validation-mlogloss:0.40812\u001b[0m\n",
      "\u001b[34m[112]#011train-mlogloss:0.02411#011validation-mlogloss:0.41117\u001b[0m\n",
      "\u001b[34m[113]#011train-mlogloss:0.02415#011validation-mlogloss:0.40988\u001b[0m\n",
      "\u001b[34m[114]#011train-mlogloss:0.02413#011validation-mlogloss:0.40987\u001b[0m\n",
      "\u001b[34m[115]#011train-mlogloss:0.02410#011validation-mlogloss:0.41112\u001b[0m\n",
      "\u001b[34m[116]#011train-mlogloss:0.02409#011validation-mlogloss:0.41207\u001b[0m\n",
      "\u001b[34m[117]#011train-mlogloss:0.02410#011validation-mlogloss:0.41375\u001b[0m\n",
      "\u001b[34m[118]#011train-mlogloss:0.02405#011validation-mlogloss:0.41502\u001b[0m\n",
      "\u001b[34m[119]#011train-mlogloss:0.02395#011validation-mlogloss:0.41667\u001b[0m\n",
      "\u001b[34m[120]#011train-mlogloss:0.02387#011validation-mlogloss:0.41623\u001b[0m\n",
      "\u001b[34m[121]#011train-mlogloss:0.02385#011validation-mlogloss:0.41628\u001b[0m\n",
      "\u001b[34m[122]#011train-mlogloss:0.02370#011validation-mlogloss:0.41426\u001b[0m\n",
      "\u001b[34m[123]#011train-mlogloss:0.02366#011validation-mlogloss:0.41513\u001b[0m\n",
      "\u001b[34m[124]#011train-mlogloss:0.02358#011validation-mlogloss:0.41559\u001b[0m\n",
      "\u001b[34m[125]#011train-mlogloss:0.02357#011validation-mlogloss:0.41322\u001b[0m\n",
      "\u001b[34m[126]#011train-mlogloss:0.02348#011validation-mlogloss:0.41509\u001b[0m\n",
      "\u001b[34m[127]#011train-mlogloss:0.02347#011validation-mlogloss:0.41434\u001b[0m\n",
      "\u001b[34m[128]#011train-mlogloss:0.02343#011validation-mlogloss:0.41710\u001b[0m\n",
      "\u001b[34m[129]#011train-mlogloss:0.02343#011validation-mlogloss:0.41525\u001b[0m\n",
      "\u001b[34m[130]#011train-mlogloss:0.02341#011validation-mlogloss:0.41430\u001b[0m\n",
      "\u001b[34m[131]#011train-mlogloss:0.02336#011validation-mlogloss:0.41474\u001b[0m\n",
      "\u001b[34m[132]#011train-mlogloss:0.02332#011validation-mlogloss:0.41498\u001b[0m\n",
      "\u001b[34m[133]#011train-mlogloss:0.02331#011validation-mlogloss:0.41338\u001b[0m\n",
      "\u001b[34m[134]#011train-mlogloss:0.02323#011validation-mlogloss:0.41424\u001b[0m\n",
      "\u001b[34m[135]#011train-mlogloss:0.02323#011validation-mlogloss:0.41635\u001b[0m\n",
      "\u001b[34m[136]#011train-mlogloss:0.02312#011validation-mlogloss:0.41881\u001b[0m\n",
      "\u001b[34m[137]#011train-mlogloss:0.02312#011validation-mlogloss:0.41700\u001b[0m\n",
      "\u001b[34m[138]#011train-mlogloss:0.02310#011validation-mlogloss:0.41767\u001b[0m\n",
      "\u001b[34m[139]#011train-mlogloss:0.02305#011validation-mlogloss:0.41900\u001b[0m\n",
      "\u001b[34m[140]#011train-mlogloss:0.02306#011validation-mlogloss:0.41880\u001b[0m\n",
      "\u001b[34m[141]#011train-mlogloss:0.02301#011validation-mlogloss:0.42017\u001b[0m\n",
      "\u001b[34m[142]#011train-mlogloss:0.02294#011validation-mlogloss:0.42079\u001b[0m\n",
      "\u001b[34m[143]#011train-mlogloss:0.02288#011validation-mlogloss:0.42246\u001b[0m\n",
      "\u001b[34m[144]#011train-mlogloss:0.02287#011validation-mlogloss:0.42385\u001b[0m\n",
      "\u001b[34m[145]#011train-mlogloss:0.02284#011validation-mlogloss:0.42535\u001b[0m\n",
      "\u001b[34m[146]#011train-mlogloss:0.02281#011validation-mlogloss:0.42452\u001b[0m\n",
      "\u001b[34m[147]#011train-mlogloss:0.02282#011validation-mlogloss:0.42577\u001b[0m\n",
      "\u001b[34m[148]#011train-mlogloss:0.02276#011validation-mlogloss:0.42755\u001b[0m\n",
      "\u001b[34m[149]#011train-mlogloss:0.02271#011validation-mlogloss:0.42831\u001b[0m\n",
      "\u001b[34m[150]#011train-mlogloss:0.02272#011validation-mlogloss:0.42980\u001b[0m\n",
      "\u001b[34m[151]#011train-mlogloss:0.02267#011validation-mlogloss:0.43077\u001b[0m\n",
      "\u001b[34m[152]#011train-mlogloss:0.02262#011validation-mlogloss:0.43219\u001b[0m\n",
      "\u001b[34m[153]#011train-mlogloss:0.02261#011validation-mlogloss:0.43289\u001b[0m\n",
      "\u001b[34m[154]#011train-mlogloss:0.02257#011validation-mlogloss:0.43459\u001b[0m\n",
      "\u001b[34m[155]#011train-mlogloss:0.02254#011validation-mlogloss:0.43490\u001b[0m\n",
      "\u001b[34m[156]#011train-mlogloss:0.02249#011validation-mlogloss:0.43404\u001b[0m\n",
      "\u001b[34m[157]#011train-mlogloss:0.02250#011validation-mlogloss:0.43256\u001b[0m\n",
      "\u001b[34m[158]#011train-mlogloss:0.02248#011validation-mlogloss:0.43092\u001b[0m\n",
      "\u001b[34m[159]#011train-mlogloss:0.02247#011validation-mlogloss:0.43094\u001b[0m\n",
      "\u001b[34m[160]#011train-mlogloss:0.02248#011validation-mlogloss:0.43088\u001b[0m\n",
      "\u001b[34m[161]#011train-mlogloss:0.02246#011validation-mlogloss:0.43237\u001b[0m\n",
      "\u001b[34m[162]#011train-mlogloss:0.02241#011validation-mlogloss:0.43355\u001b[0m\n",
      "\u001b[34m[163]#011train-mlogloss:0.02237#011validation-mlogloss:0.43451\u001b[0m\n",
      "\u001b[34m[164]#011train-mlogloss:0.02233#011validation-mlogloss:0.43408\u001b[0m\n",
      "\u001b[34m[165]#011train-mlogloss:0.02233#011validation-mlogloss:0.43395\u001b[0m\n",
      "\u001b[34m[166]#011train-mlogloss:0.02234#011validation-mlogloss:0.43388\u001b[0m\n",
      "\u001b[34m[167]#011train-mlogloss:0.02231#011validation-mlogloss:0.43174\u001b[0m\n",
      "\u001b[34m[168]#011train-mlogloss:0.02227#011validation-mlogloss:0.43326\u001b[0m\n",
      "\u001b[34m[169]#011train-mlogloss:0.02222#011validation-mlogloss:0.43268\u001b[0m\n",
      "\u001b[34m[170]#011train-mlogloss:0.02221#011validation-mlogloss:0.43312\u001b[0m\n",
      "\u001b[34m[171]#011train-mlogloss:0.02218#011validation-mlogloss:0.43555\u001b[0m\n",
      "\u001b[34m[172]#011train-mlogloss:0.02214#011validation-mlogloss:0.43410\u001b[0m\n",
      "\u001b[34m[173]#011train-mlogloss:0.02215#011validation-mlogloss:0.43565\u001b[0m\n",
      "\u001b[34m[174]#011train-mlogloss:0.02214#011validation-mlogloss:0.43551\u001b[0m\n",
      "\u001b[34m[175]#011train-mlogloss:0.02208#011validation-mlogloss:0.43524\u001b[0m\n",
      "\u001b[34m[176]#011train-mlogloss:0.02207#011validation-mlogloss:0.43463\u001b[0m\n",
      "\u001b[34m[177]#011train-mlogloss:0.02197#011validation-mlogloss:0.43776\u001b[0m\n",
      "\u001b[34m[178]#011train-mlogloss:0.02194#011validation-mlogloss:0.43786\u001b[0m\n",
      "\u001b[34m[179]#011train-mlogloss:0.02193#011validation-mlogloss:0.43856\u001b[0m\n",
      "\u001b[34m[180]#011train-mlogloss:0.02187#011validation-mlogloss:0.43725\u001b[0m\n",
      "\u001b[34m[181]#011train-mlogloss:0.02188#011validation-mlogloss:0.43635\u001b[0m\n",
      "\u001b[34m[182]#011train-mlogloss:0.02186#011validation-mlogloss:0.43607\u001b[0m\n",
      "\u001b[34m[183]#011train-mlogloss:0.02185#011validation-mlogloss:0.43680\u001b[0m\n",
      "\u001b[34m[184]#011train-mlogloss:0.02185#011validation-mlogloss:0.43670\u001b[0m\n",
      "\u001b[34m[185]#011train-mlogloss:0.02182#011validation-mlogloss:0.43742\u001b[0m\n",
      "\u001b[34m[186]#011train-mlogloss:0.02181#011validation-mlogloss:0.43894\u001b[0m\n",
      "\u001b[34m[187]#011train-mlogloss:0.02179#011validation-mlogloss:0.43760\u001b[0m\n",
      "\u001b[34m[188]#011train-mlogloss:0.02179#011validation-mlogloss:0.43840\u001b[0m\n",
      "\u001b[34m[189]#011train-mlogloss:0.02178#011validation-mlogloss:0.43705\u001b[0m\n",
      "\u001b[34m[190]#011train-mlogloss:0.02178#011validation-mlogloss:0.43653\u001b[0m\n",
      "\u001b[34m[191]#011train-mlogloss:0.02174#011validation-mlogloss:0.43808\u001b[0m\n",
      "\u001b[34m[192]#011train-mlogloss:0.02173#011validation-mlogloss:0.43832\u001b[0m\n",
      "\u001b[34m[193]#011train-mlogloss:0.02170#011validation-mlogloss:0.44032\u001b[0m\n",
      "\u001b[34m[194]#011train-mlogloss:0.02168#011validation-mlogloss:0.44147\u001b[0m\n",
      "\u001b[34m[195]#011train-mlogloss:0.02166#011validation-mlogloss:0.43987\u001b[0m\n",
      "\u001b[34m[196]#011train-mlogloss:0.02165#011validation-mlogloss:0.44063\u001b[0m\n",
      "\u001b[34m[197]#011train-mlogloss:0.02162#011validation-mlogloss:0.44072\u001b[0m\n",
      "\u001b[34m[198]#011train-mlogloss:0.02164#011validation-mlogloss:0.44283\u001b[0m\n",
      "\u001b[34m[199]#011train-mlogloss:0.02160#011validation-mlogloss:0.44300\u001b[0m\n",
      "\n",
      "2025-09-27 12:02:42 Uploading - Uploading generated training model\n",
      "2025-09-27 12:02:42 Completed - Training job completed\n",
      "Training seconds: 145\n",
      "Billable seconds: 145\n"
     ]
    }
   ],
   "source": [
    "from sagemaker.inputs import TrainingInput\n",
    "\n",
    "train_input = TrainingInput(s3_data=s3_train, content_type=\"text/csv\")\n",
    "val_input   = TrainingInput(s3_data=s3_val,   content_type=\"text/csv\")\n",
    "\n",
    "estimator.fit({\"train\": train_input, \"validation\": val_input})"
   ]
  },
  {
   "cell_type": "markdown",
   "id": "1a578437-fae2-4f6e-983f-cc5a57047b83",
   "metadata": {},
   "source": [
    "## Deploy HTTP Endpoints"
   ]
  },
  {
   "cell_type": "code",
   "execution_count": 9,
   "id": "a6ccc7eb-f4ba-47b7-9bb7-946a5ada7def",
   "metadata": {},
   "outputs": [
    {
     "name": "stderr",
     "output_type": "stream",
     "text": [
      "INFO:sagemaker:Creating model with name: sagemaker-xgboost-2025-09-27-12-06-26-368\n",
      "INFO:sagemaker:Creating endpoint-config with name sagemaker-xgboost-2025-09-27-12-06-26-368\n",
      "INFO:sagemaker:Creating endpoint with name sagemaker-xgboost-2025-09-27-12-06-26-368\n"
     ]
    },
    {
     "name": "stdout",
     "output_type": "stream",
     "text": [
      "------!"
     ]
    }
   ],
   "source": [
    "predictor = estimator.deploy(\n",
    "    initial_instance_count=1,\n",
    "    instance_type=\"ml.m5.large\"\n",
    ")\n",
    "\n",
    "# Set serializer/deserializer for CSV in, JSON out\n",
    "predictor.serializer = CSVSerializer()\n",
    "predictor.deserializer = JSONDeserializer()"
   ]
  },
  {
   "cell_type": "code",
   "execution_count": 8,
   "id": "b4dc07cf-fbff-44b2-bcb3-814069c9ff2f",
   "metadata": {},
   "outputs": [
    {
     "data": {
      "text/html": [
       "<pre style=\"white-space:pre;overflow-x:auto;line-height:normal;font-family:Menlo,'DejaVu Sans Mono',consolas,'Courier New',monospace\"><span style=\"color: #ff0000; text-decoration-color: #ff0000\">╭─────────────────────────────── </span><span style=\"color: #ff0000; text-decoration-color: #ff0000; font-weight: bold\">Traceback </span><span style=\"color: #ff7f7f; text-decoration-color: #ff7f7f; font-weight: bold\">(most recent call last)</span><span style=\"color: #ff0000; text-decoration-color: #ff0000\"> ────────────────────────────────╮</span>\n",
       "<span style=\"color: #ff0000; text-decoration-color: #ff0000\">│</span> in &lt;module&gt;:1                                                                                    <span style=\"color: #ff0000; text-decoration-color: #ff0000\">│</span>\n",
       "<span style=\"color: #ff0000; text-decoration-color: #ff0000\">│</span>                                                                                                  <span style=\"color: #ff0000; text-decoration-color: #ff0000\">│</span>\n",
       "<span style=\"color: #ff0000; text-decoration-color: #ff0000\">│</span> <span style=\"color: #800000; text-decoration-color: #800000\">❱ </span>1 predictor.delete_endpoint()                                                                  <span style=\"color: #ff0000; text-decoration-color: #ff0000\">│</span>\n",
       "<span style=\"color: #ff0000; text-decoration-color: #ff0000\">│</span>   <span style=\"color: #7f7f7f; text-decoration-color: #7f7f7f\">2 </span>                                                                                             <span style=\"color: #ff0000; text-decoration-color: #ff0000\">│</span>\n",
       "<span style=\"color: #ff0000; text-decoration-color: #ff0000\">╰──────────────────────────────────────────────────────────────────────────────────────────────────╯</span>\n",
       "<span style=\"color: #ff0000; text-decoration-color: #ff0000; font-weight: bold\">NameError: </span>name <span style=\"color: #008700; text-decoration-color: #008700\">'predictor'</span> is not defined\n",
       "</pre>\n"
      ],
      "text/plain": [
       "\u001b[38;2;255;0;0m╭─\u001b[0m\u001b[38;2;255;0;0m──────────────────────────────\u001b[0m\u001b[38;2;255;0;0m \u001b[0m\u001b[1;38;2;255;0;0mTraceback \u001b[0m\u001b[1;2;38;2;255;0;0m(most recent call last)\u001b[0m\u001b[38;2;255;0;0m \u001b[0m\u001b[38;2;255;0;0m───────────────────────────────\u001b[0m\u001b[38;2;255;0;0m─╮\u001b[0m\n",
       "\u001b[38;2;255;0;0m│\u001b[0m in <module>:1                                                                                    \u001b[38;2;255;0;0m│\u001b[0m\n",
       "\u001b[38;2;255;0;0m│\u001b[0m                                                                                                  \u001b[38;2;255;0;0m│\u001b[0m\n",
       "\u001b[38;2;255;0;0m│\u001b[0m \u001b[31m❱ \u001b[0m1 predictor.delete_endpoint()                                                                  \u001b[38;2;255;0;0m│\u001b[0m\n",
       "\u001b[38;2;255;0;0m│\u001b[0m   \u001b[2m2 \u001b[0m                                                                                             \u001b[38;2;255;0;0m│\u001b[0m\n",
       "\u001b[38;2;255;0;0m╰──────────────────────────────────────────────────────────────────────────────────────────────────╯\u001b[0m\n",
       "\u001b[1;91mNameError: \u001b[0mname \u001b[38;2;0;135;0m'predictor'\u001b[0m is not defined\n"
      ]
     },
     "metadata": {},
     "output_type": "display_data"
    }
   ],
   "source": [
    "predictor.delete_endpoint()"
   ]
  },
  {
   "cell_type": "markdown",
   "id": "97c8a574-b828-41a5-9933-036947e18ab3",
   "metadata": {},
   "source": [
    "## Run inference (Run this in a separate notebook)"
   ]
  },
  {
   "cell_type": "code",
   "execution_count": null,
   "id": "d7b4b399-81d9-4c5a-a085-1d723f534740",
   "metadata": {},
   "outputs": [],
   "source": [
    "import boto3\n",
    "import sagemaker\n",
    "from sagemaker.serializers import CSVSerializer\n",
    "from sagemaker.deserializers import JSONDeserializer\n",
    "\n",
    "session = sagemaker.Session()\n",
    "\n",
    "predictor = sagemaker.Predictor(\n",
    "    endpoint_name=\"sagemaker-xgboost-2025-08-18-07-13-45-645\", \n",
    "    sagemaker_session=session\n",
    ")\n",
    "\n",
    "# Set serializers again (these don’t persist across notebooks)\n",
    "predictor.serializer = CSVSerializer()\n",
    "predictor.deserializer = JSONDeserializer()\n"
   ]
  },
  {
   "cell_type": "code",
   "execution_count": null,
   "id": "5ddaa10b-5f67-4fc9-9390-78036e9915df",
   "metadata": {},
   "outputs": [],
   "source": [
    "# Example: single row (sepal length, sepal width, petal length, petal width)\n",
    "row = [[5.1, 3.5, 1.4, 0.2]]\n",
    "\n",
    "payload = \",\".join(map(str, row[0]))\n",
    "result = predictor.predict(payload)\n",
    "\n",
    "print(result)\n",
    "# → {'predictions': [{'score': [0.98, 0.01, 0.01]}]}\n"
   ]
  },
  {
   "cell_type": "markdown",
   "id": "1616669c-e9e4-4b67-9f40-a2e3f6d36f96",
   "metadata": {},
   "source": [
    " ## Hosting the "
   ]
  },
  {
   "cell_type": "code",
   "execution_count": 12,
   "id": "0dabb977-6099-47d3-87c2-3c5c0ba071d3",
   "metadata": {},
   "outputs": [
    {
     "data": {
      "text/plain": [
       "'s3://sagemaker-ap-southeast-1-215470142970/iris-xgb/output'"
      ]
     },
     "execution_count": 12,
     "metadata": {},
     "output_type": "execute_result"
    }
   ],
   "source": [
    "s3_output"
   ]
  },
  {
   "cell_type": "code",
   "execution_count": 14,
   "id": "10b5e849-2fe5-48f1-a161-291ab29ad1d1",
   "metadata": {},
   "outputs": [
    {
     "name": "stderr",
     "output_type": "stream",
     "text": [
      "INFO:sagemaker.image_uris:Ignoring unnecessary instance type: None.\n",
      "INFO:sagemaker:Creating model with name: iris-xgb-model\n",
      "INFO:sagemaker:Creating endpoint-config with name iris-xgb-rt\n",
      "INFO:sagemaker:Creating endpoint with name iris-xgb-rt\n"
     ]
    },
    {
     "name": "stdout",
     "output_type": "stream",
     "text": [
      "------!"
     ]
    },
    {
     "data": {
      "text/html": [
       "<pre style=\"white-space:pre;overflow-x:auto;line-height:normal;font-family:Menlo,'DejaVu Sans Mono',consolas,'Courier New',monospace\"><span style=\"color: #ff0000; text-decoration-color: #ff0000\">╭─────────────────────────────── </span><span style=\"color: #ff0000; text-decoration-color: #ff0000; font-weight: bold\">Traceback </span><span style=\"color: #ff7f7f; text-decoration-color: #ff7f7f; font-weight: bold\">(most recent call last)</span><span style=\"color: #ff0000; text-decoration-color: #ff0000\"> ────────────────────────────────╮</span>\n",
       "<span style=\"color: #ff0000; text-decoration-color: #ff0000\">│</span> in &lt;module&gt;:23                                                                                   <span style=\"color: #ff0000; text-decoration-color: #ff0000\">│</span>\n",
       "<span style=\"color: #ff0000; text-decoration-color: #ff0000\">│</span>                                                                                                  <span style=\"color: #ff0000; text-decoration-color: #ff0000\">│</span>\n",
       "<span style=\"color: #ff0000; text-decoration-color: #ff0000\">│</span>   <span style=\"color: #7f7f7f; text-decoration-color: #7f7f7f\">20 </span><span style=\"color: #7f7f7f; text-decoration-color: #7f7f7f\">│   </span>instance_type=<span style=\"color: #808000; text-decoration-color: #808000\">\"ml.m5.large\"</span>,                                                            <span style=\"color: #ff0000; text-decoration-color: #ff0000\">│</span>\n",
       "<span style=\"color: #ff0000; text-decoration-color: #ff0000\">│</span>   <span style=\"color: #7f7f7f; text-decoration-color: #7f7f7f\">21 </span><span style=\"color: #7f7f7f; text-decoration-color: #7f7f7f\">│   </span>endpoint_name=<span style=\"color: #808000; text-decoration-color: #808000\">\"iris-xgb-rt\"</span>                                                             <span style=\"color: #ff0000; text-decoration-color: #ff0000\">│</span>\n",
       "<span style=\"color: #ff0000; text-decoration-color: #ff0000\">│</span>   <span style=\"color: #7f7f7f; text-decoration-color: #7f7f7f\">22 </span>)                                                                                           <span style=\"color: #ff0000; text-decoration-color: #ff0000\">│</span>\n",
       "<span style=\"color: #ff0000; text-decoration-color: #ff0000\">│</span> <span style=\"color: #800000; text-decoration-color: #800000\">❱ </span>23 predictor.serializer   = CSVSerializer()                                                    <span style=\"color: #ff0000; text-decoration-color: #ff0000\">│</span>\n",
       "<span style=\"color: #ff0000; text-decoration-color: #ff0000\">│</span>   <span style=\"color: #7f7f7f; text-decoration-color: #7f7f7f\">24 </span>predictor.deserializer = CSVDeserializer()                                                  <span style=\"color: #ff0000; text-decoration-color: #ff0000\">│</span>\n",
       "<span style=\"color: #ff0000; text-decoration-color: #ff0000\">│</span>   <span style=\"color: #7f7f7f; text-decoration-color: #7f7f7f\">25 </span>                                                                                            <span style=\"color: #ff0000; text-decoration-color: #ff0000\">│</span>\n",
       "<span style=\"color: #ff0000; text-decoration-color: #ff0000\">╰──────────────────────────────────────────────────────────────────────────────────────────────────╯</span>\n",
       "<span style=\"color: #ff0000; text-decoration-color: #ff0000; font-weight: bold\">AttributeError: </span><span style=\"color: #008700; text-decoration-color: #008700\">'NoneType'</span> object has no attribute <span style=\"color: #008700; text-decoration-color: #008700\">'serializer'</span>\n",
       "</pre>\n"
      ],
      "text/plain": [
       "\u001b[38;2;255;0;0m╭─\u001b[0m\u001b[38;2;255;0;0m──────────────────────────────\u001b[0m\u001b[38;2;255;0;0m \u001b[0m\u001b[1;38;2;255;0;0mTraceback \u001b[0m\u001b[1;2;38;2;255;0;0m(most recent call last)\u001b[0m\u001b[38;2;255;0;0m \u001b[0m\u001b[38;2;255;0;0m───────────────────────────────\u001b[0m\u001b[38;2;255;0;0m─╮\u001b[0m\n",
       "\u001b[38;2;255;0;0m│\u001b[0m in <module>:23                                                                                   \u001b[38;2;255;0;0m│\u001b[0m\n",
       "\u001b[38;2;255;0;0m│\u001b[0m                                                                                                  \u001b[38;2;255;0;0m│\u001b[0m\n",
       "\u001b[38;2;255;0;0m│\u001b[0m   \u001b[2m20 \u001b[0m\u001b[2m│   \u001b[0minstance_type=\u001b[33m\"\u001b[0m\u001b[33mml.m5.large\u001b[0m\u001b[33m\"\u001b[0m,                                                            \u001b[38;2;255;0;0m│\u001b[0m\n",
       "\u001b[38;2;255;0;0m│\u001b[0m   \u001b[2m21 \u001b[0m\u001b[2m│   \u001b[0mendpoint_name=\u001b[33m\"\u001b[0m\u001b[33miris-xgb-rt\u001b[0m\u001b[33m\"\u001b[0m                                                             \u001b[38;2;255;0;0m│\u001b[0m\n",
       "\u001b[38;2;255;0;0m│\u001b[0m   \u001b[2m22 \u001b[0m)                                                                                           \u001b[38;2;255;0;0m│\u001b[0m\n",
       "\u001b[38;2;255;0;0m│\u001b[0m \u001b[31m❱ \u001b[0m23 predictor.serializer   = CSVSerializer()                                                    \u001b[38;2;255;0;0m│\u001b[0m\n",
       "\u001b[38;2;255;0;0m│\u001b[0m   \u001b[2m24 \u001b[0mpredictor.deserializer = CSVDeserializer()                                                  \u001b[38;2;255;0;0m│\u001b[0m\n",
       "\u001b[38;2;255;0;0m│\u001b[0m   \u001b[2m25 \u001b[0m                                                                                            \u001b[38;2;255;0;0m│\u001b[0m\n",
       "\u001b[38;2;255;0;0m╰──────────────────────────────────────────────────────────────────────────────────────────────────╯\u001b[0m\n",
       "\u001b[1;91mAttributeError: \u001b[0m\u001b[38;2;0;135;0m'NoneType'\u001b[0m object has no attribute \u001b[38;2;0;135;0m'serializer'\u001b[0m\n"
      ]
     },
     "metadata": {},
     "output_type": "display_data"
    }
   ],
   "source": [
    "from sagemaker.model import Model\n",
    "from sagemaker import image_uris\n",
    "from sagemaker.serializers import CSVSerializer\n",
    "from sagemaker.deserializers import CSVDeserializer\n",
    "\n",
    "# fill these from the console Model details\n",
    "model_data = \"s3://sagemaker-ap-southeast-1-215470142970/iris-xgb/output/sagemaker-xgboost-2025-09-27-11-59-41-157/output/model.tar.gz\"\n",
    "xgb_image  = image_uris.retrieve(framework=\"xgboost\", region=region, version=\"1.7-1\")\n",
    "\n",
    "model = Model(\n",
    "    image_uri=xgb_image,\n",
    "    model_data=model_data,\n",
    "    role=role,\n",
    "    sagemaker_session=session,\n",
    "    name=\"iris-xgb-model\"\n",
    ")\n",
    "\n",
    "predictor = model.deploy(\n",
    "    initial_instance_count=1,\n",
    "    instance_type=\"ml.m5.large\",\n",
    "    endpoint_name=\"iris-xgb-rt\"\n",
    ")\n",
    "predictor.serializer   = CSVSerializer()\n",
    "predictor.deserializer = CSVDeserializer()\n"
   ]
  },
  {
   "cell_type": "code",
   "execution_count": null,
   "id": "83abcb7a-fa9c-487d-9a97-42e97d2f6902",
   "metadata": {},
   "outputs": [],
   "source": []
  }
 ],
 "metadata": {
  "kernelspec": {
   "display_name": "conda_python3",
   "language": "python",
   "name": "conda_python3"
  },
  "language_info": {
   "codemirror_mode": {
    "name": "ipython",
    "version": 3
   },
   "file_extension": ".py",
   "mimetype": "text/x-python",
   "name": "python",
   "nbconvert_exporter": "python",
   "pygments_lexer": "ipython3",
   "version": "3.10.18"
  }
 },
 "nbformat": 4,
 "nbformat_minor": 5
}
